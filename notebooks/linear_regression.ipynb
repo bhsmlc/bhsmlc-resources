# Import the random library to generate a random set of datapoints
import random

# Create the x and y datasets with 10 random numbers (0-9) in each list
x = [random.randint(0, 9), random.randint(0, 9), random.randint(0, 9), random.randint(0, 9), random.randint(0, 9),
     random.randint(0, 9), random.randint(0, 9), random.randint(0, 9), random.randint(0, 9), random.randint(0, 9)]
y = [random.randint(0, 9), random.randint(0, 9), random.randint(0, 9), random.randint(0, 9), random.randint(0, 9),
     random.randint(0, 9), random.randint(0, 9), random.randint(0, 9), random.randint(0, 9), random.randint(0, 9)]

# Print x and y datasets to make sure they were generated correctly
print(f"x: {x}")
print(f"y: {y}")

# Sum x = all the x values added up. Len x = the number of x values
mX = sum(x)/len(x)  # Average of all the x values
mY = sum(y)/len(y)  # Average of all the y values

# m = rise/run
# A function that returns a value is called a “fruitful function”

# Functions for slope calculation:
def rise():
    # Defines a function
    out = 0  # Output of the function
    # Numerator of linear regression m formula:
    for point in range(len(x)):
        out += (x[point]-mX)*(y[point]-mY)
    # Returns the final numerator
    return out

def run():
    # Defines a function
    out = 0  # Output of the function
    # Denominator of linear regression m formula:
    for value in x:
        out += (value-mX)**2  # **2 means power of 2
    # Returns the final numerator
    return out

# Store m in a variable
m = rise()/run()

# Find b and store it in a variable
b = mY - m*mX

# Ask user for an input x-value
toPredict = int(input("Enter a x value: "))

# Predicts the corresponding y value (the output)
prediction = print(m*toPredict + b)
