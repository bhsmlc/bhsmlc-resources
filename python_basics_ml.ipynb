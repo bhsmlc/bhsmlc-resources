{
  "nbformat": 4,
  "nbformat_minor": 0,
  "metadata": {
    "colab": {
      "provenance": []
    },
    "kernelspec": {
      "name": "python3",
      "display_name": "Python 3"
    },
    "language_info": {
      "name": "python"
    }
  },
  "cells": [
    {
      "cell_type": "markdown",
      "metadata": {
        "id": "0ce1a2dc"
      },
      "source": [
        "## Python Basics for BHS Machine Learning CLub\n",
        "\n",
        "Python is the most widely used programming language for machine learning. This notebook will skim over the basics. To truly learn these topics, you will need to spend additional time practicing.\n",
        "\n",
        "I will post excercises at the end of this notebook so you guys can practice your python. Please try to complete them.\n",
        "\n",
        "If you do not have python installed on your device, you can use this online interpreter: https://www.programiz.com/python-programming/online-compiler/\n",
        "\n",
        "If you need any help, please feel free to contact us at mlclubbhs@gmail.com and we will try to assist you as soon as possible."
      ]
    },
    {
      "cell_type": "markdown",
      "metadata": {
        "id": "bf947eb2"
      },
      "source": [
        "### Printing\n",
        "\n",
        "One of the most important things you can ask a computer to do is to print output.\n",
        "\n",
        "By default, the print() function adds a newline `\\n` at the end, which means the next print will appear on a new line.\n",
        "\n",
        "You can change this behavior using the end parameter:"
      ]
    },
    {
      "cell_type": "code",
      "metadata": {
        "colab": {
          "base_uri": "https://localhost:8080/"
        },
        "id": "03dd6c55",
        "outputId": "6188098d-5810-48ae-81e3-60828f002067"
      },
      "source": [
        "# This prints the message “hello world” in the output box\n",
        "print(\"Hello World!\")\n",
        "print(\"This is the second line\", end = \"-\")\n",
        "print(\"This is also in the second line\", end = \"\")\n",
        "print(\":)\")\n"
      ],
      "execution_count": null,
      "outputs": [
        {
          "output_type": "stream",
          "name": "stdout",
          "text": [
            "Hello World!\n",
            "This is the second line-This is also in the second line:)\n"
          ]
        }
      ]
    },
    {
      "cell_type": "markdown",
      "metadata": {
        "id": "a9114812"
      },
      "source": [
        "### Comments\n",
        "\n",
        "Comments are not read by the Python interpreter. They are mainly used for readability purposes."
      ]
    },
    {
      "cell_type": "code",
      "metadata": {
        "id": "fc3f79b3",
        "collapsed": true
      },
      "source": [
        "# This is how you write a single-line comment\n",
        "\"\"\"\n",
        "This is how\n",
        "you write a multi-line comment\n",
        "\"\"\""
      ],
      "execution_count": null,
      "outputs": []
    },
    {
      "cell_type": "markdown",
      "metadata": {
        "id": "c309f2d8"
      },
      "source": [
        "### Variables and data types\n",
        "\n",
        "* A container for a value\n",
        "\n",
        "#### Variables Naming Rules and Convention\n",
        "*   **Convention**: common practice\n",
        "\n",
        "#### Data Types that a value can be:\n",
        "*   **Int**: any whole number (e.g., age, velocity = -3)\n",
        "*   **Float**: any number with a decimal (e.g., price)\n",
        "*   **String**: a word, phrase, letter, etc. (e.g., name, first_name = \"Ashwath\")\n",
        "*   **Bool**: just True or False (e.g., likes_python, for_sale)"
      ]
    },
    {
      "cell_type": "code",
      "metadata": {
        "colab": {
          "base_uri": "https://localhost:8080/"
        },
        "id": "27bcc206",
        "outputId": "b74dcee0-90fb-471b-881b-6dcaba189fca"
      },
      "source": [
        "# This is how you create a variable:\n",
        "# (variable name) = (variable value)\n",
        "first_name = \"Ashwath\"\n",
        "print(first_name)\n",
        "\n",
        "# The code above has the same result as the code below\n",
        "print(\"Ashwath\")"
      ],
      "execution_count": null,
      "outputs": [
        {
          "output_type": "stream",
          "name": "stdout",
          "text": [
            "Ashwath\n",
            "Ashwath\n"
          ]
        }
      ]
    },
    {
      "cell_type": "code",
      "source": [],
      "metadata": {
        "id": "6-2YWPotU6sn"
      },
      "execution_count": null,
      "outputs": []
    },
    {
      "cell_type": "markdown",
      "metadata": {
        "id": "8778cb34"
      },
      "source": [
        "A value is USUALLY 1 of 4 data types (int, string, float, boolean)\n",
        "\n",
        "#### Rules for Variable Naming\n",
        "1.  Don't start with a digit.\n",
        "2.  Don't include spaces or special characters (only a-z/A-Z and _).\n",
        "\n",
        "#### Convention Examples:\n",
        "*   `numOfStudents` (camelCase: used in Java, c++, javascript)\n",
        "*   `num_of_students` (snake_case: used in python for both variable and function names)\n",
        "\n",
        "**Ignoring the convention rules will not break your code**"
      ]
    },
    {
      "cell_type": "markdown",
      "metadata": {
        "id": "9e279f29"
      },
      "source": [
        "### Type Casting\n",
        "\n",
        "Converting a variable from one type to another\n",
        "\n",
        "Use functions like `int()`, `str()`, `bool()`, `float()` for type casting."
      ]
    },
    {
      "cell_type": "code",
      "metadata": {
        "colab": {
          "base_uri": "https://localhost:8080/"
        },
        "id": "a838b236",
        "outputId": "57e19495-7473-4ae4-cf2a-075ce7070bab"
      },
      "source": [
        "name = \"Bill\"\n",
        "age = 25\n",
        "grade = 3.5\n",
        "isFailing = False\n",
        "height = \"180\"\n",
        "status = \"True\"\n",
        "\n",
        "# Examples of valid type casting:\n",
        "  # Casting float to int (truncates)\n",
        "print(int(grade))  # 3\n",
        "\n",
        "  # Casting int to float\n",
        "print(float(age))  # 25.0\n",
        "\n",
        "  # Casting string to int\n",
        "print(int(height))  # 180\n",
        "\n",
        "  # Casting string to float\n",
        "print(float(height))  # 180.0\n",
        "\n",
        "  # Casting bool to int\n",
        "print(int(isFailing))  # 0\n",
        "\n",
        "  # Casting bool to string\n",
        "print(str(isFailing))  # \"False\"\n",
        "\n",
        "  # Casting string to bool (non-empty string is True)\n",
        "print(bool(status))  # True\n",
        "\n",
        "  # Casting empty string to bool\n",
        "print(bool(\"\"))  # False\n",
        "\n",
        "  # Casting float to string\n",
        "print(str(grade))  # \"3.5\"\n"
      ],
      "execution_count": null,
      "outputs": [
        {
          "output_type": "stream",
          "name": "stdout",
          "text": [
            "3\n",
            "25.0\n",
            "180\n",
            "180.0\n",
            "0\n",
            "False\n",
            "True\n",
            "False\n",
            "3.5\n"
          ]
        }
      ]
    },
    {
      "cell_type": "markdown",
      "source": [
        "####Type casting really shines when we work with user input..."
      ],
      "metadata": {
        "id": "nqa7ovP3yRLV"
      }
    },
    {
      "cell_type": "markdown",
      "metadata": {
        "id": "bb72b733"
      },
      "source": [
        "### User Input\n",
        "\n",
        "`input()` prompts the user to enter a value and returns a **string**."
      ]
    },
    {
      "cell_type": "code",
      "metadata": {
        "colab": {
          "base_uri": "https://localhost:8080/"
        },
        "id": "837230d1",
        "outputId": "a38a622b-67a7-483e-cc1f-7ae97e37abdf"
      },
      "source": [
        "name = input(\"What's their name? \")\n",
        "age = input(\"How old are they? \")\n",
        "\n",
        "print(\"It's \" + name + \"'s birthday!\")\n",
        "\n",
        "# Type casting the age to an integer for arithmetic operations\n",
        "new_age = int(age) + 1\n",
        "print(\"Next year, they will be: \" + str(new_age)) # We have to caste it to a string here"
      ],
      "execution_count": 3,
      "outputs": [
        {
          "output_type": "stream",
          "name": "stdout",
          "text": [
            "What's their name? Bob\n",
            "How old are they? 24\n",
            "It's Bob's birthday!\n",
            "Next year, they will be: 25\n"
          ]
        }
      ]
    },
    {
      "cell_type": "markdown",
      "metadata": {
        "id": "3ba568db"
      },
      "source": [
        "### Arithmetic Operators\n",
        "\n",
        "Basic arithmetic operators include: `+`, `-`, `/`, `%`, `**`, `//`\n",
        "\n",
        "% is the modulus operator, it divides two numbers and returns the remainder. Ex: 3 % 2 = 1, 2 % 21 = 2, -5 % 2 = 1 (result has the same sign as the divisor)\n",
        "\n",
        "\\*\\* is the exponentiation operator. (x**y) is the same as (x to the power of y).\n",
        "\n",
        "// is floor-division. It divides a number and rounds it down to the nearest whole number, returning an int.\n",
        "\n",
        "/ is division. It always returns a double."
      ]
    },
    {
      "cell_type": "code",
      "metadata": {
        "colab": {
          "base_uri": "https://localhost:8080/"
        },
        "id": "5e2d71cb",
        "outputId": "39108945-44eb-45c0-e3b3-f7b873212688"
      },
      "source": [
        "x = 10\n",
        "y = 4\n",
        "\n",
        "result_addition = x + y\n",
        "result_subtraction = x - y\n",
        "result_multiplication = x * y\n",
        "result_division = x / y\n",
        "result_modulus = x % y\n",
        "result_exponentiation = x ** y\n",
        "result_floor_division = x // y\n",
        "\n",
        "print(\"x + y =\", result_addition)\n",
        "print(\"x - y =\", result_subtraction)\n",
        "print(\"x * y =\", result_multiplication)\n",
        "print(\"x / y =\", result_division)\n",
        "print(\"x % y =\", result_modulus)\n",
        "print(\"x ** y =\", result_exponentiation)\n",
        "print(\"x // y =\", result_floor_division)"
      ],
      "execution_count": null,
      "outputs": [
        {
          "output_type": "stream",
          "name": "stdout",
          "text": [
            "x + y = 14\n",
            "x - y = 6\n",
            "x * y = 40\n",
            "x / y = 2.5\n",
            "x % y = 2\n",
            "x ** y = 10000\n",
            "x // y = 2\n"
          ]
        }
      ]
    },
    {
      "cell_type": "markdown",
      "metadata": {
        "id": "5bdf9efc"
      },
      "source": [
        "### String Operations\n",
        "\n",
        "Strings are sequences of characters, and Python provides many built-in operations to manipulate them.\n",
        "\n",
        "Remember: In programming **we always start at 0**"
      ]
    },
    {
      "cell_type": "code",
      "metadata": {
        "id": "2912c617",
        "colab": {
          "base_uri": "https://localhost:8080/"
        },
        "outputId": "3f9aef6f-f6d7-4a9f-ac92-703503928163"
      },
      "source": [
        "# Concatenation (joining strings)\n",
        "greeting = \"Hello\"\n",
        "name = \"World\"\n",
        "message = greeting + \" \" + name + \"!\"\n",
        "print(message)\n",
        "\n",
        "# String repetition\n",
        "print(\"-\" * 20)\n",
        "\n",
        "# Accessing characters (indexing)\n",
        "my_string = \"Python\"\n",
        "print(my_string[0]) # First character\n",
        "print(my_string[-1]) # Last character\n",
        "\n",
        "# Slicing strings\n",
        "print(my_string[0:3]) # Characters from index 0 up to (but not including) index 3\n",
        "print(my_string[2:]) # Characters from index 2 to the end\n",
        "print(my_string[:3]) # Characters from the beginning up to (but not including) index 3\n",
        "\n",
        "# String length\n",
        "print(len(my_string))\n",
        "\n",
        "# String methods (examples)\n",
        "print(my_string.upper())\n",
        "print(my_string.lower())\n",
        "print(my_string.replace(\"o\", \"0\"))"
      ],
      "execution_count": null,
      "outputs": [
        {
          "output_type": "stream",
          "name": "stdout",
          "text": [
            "Hello World!\n",
            "--------------------\n",
            "P\n",
            "n\n",
            "Pyt\n",
            "thon\n",
            "Pyt\n",
            "6\n",
            "PYTHON\n",
            "python\n",
            "Pyth0n\n"
          ]
        }
      ]
    },
    {
      "cell_type": "markdown",
      "metadata": {
        "id": "c951f638"
      },
      "source": [
        "### Comparison Operators\n",
        "\n",
        "Comparison operators are used to compare values and return `True` or `False`. They are useful in conditional statements.\n",
        "\n",
        "*   `==` (Equal to)\n",
        "*   `!=` (Not equal to)\n",
        "*   `>` (Greater than)\n",
        "*   `<` (Less than)\n",
        "*   `>=` (Greater than or equal to)\n",
        "*   `<=` (Less than or equal to)\n",
        "\n",
        "## Common Mistake: if x = y:...\n",
        "`=` is an **assignment operator**, `==` is the proper comparision operator.\n",
        "\n",
        "### Conditionals\n",
        "\n",
        "Conditionals let your program make decisions and execute different actions based on whether certain conditions are true or false. The main conditional statements are `if`, `elif` (else if), and `else`."
      ]
    },
    {
      "cell_type": "code",
      "metadata": {
        "id": "a53181d5",
        "colab": {
          "base_uri": "https://localhost:8080/"
        },
        "outputId": "c8cfc126-c948-4053-8d57-9426f0f13d6d"
      },
      "source": [
        "temperature = int(input(\"Whats the temperature in Celcius? \")) # Here, we have to cast it to an int so we can compare it\n",
        "\n",
        "if temperature > 30:\n",
        "  print(\"It's a hot day!!!\")\n",
        "elif temperature > 20:\n",
        "  print(\"It's a warm day :)\")\n",
        "else:\n",
        "  print(\"It's a cool day ----\")"
      ],
      "execution_count": null,
      "outputs": [
        {
          "output_type": "stream",
          "name": "stdout",
          "text": [
            "Whats the temperature in Celcius? 30\n",
            "It's a warm day :)\n"
          ]
        }
      ]
    },
    {
      "cell_type": "markdown",
      "metadata": {
        "id": "6b2fffe9"
      },
      "source": [
        "### Functions\n",
        "\n",
        "Functions are blocks of reusable code that perform a specific task. Defining functions helps organize your code, avoiding repetition and also making yor code more readable.\n",
        "\n",
        "#### Modifying Variables\n",
        "\n",
        "To modify a **global variable** (variables defined outside of your function) inside your function, you must use the global keyword, or else it will create a new **local variable** instead of modifying the global one."
      ]
    },
    {
      "cell_type": "code",
      "metadata": {
        "colab": {
          "base_uri": "https://localhost:8080/"
        },
        "id": "3ae48b6a",
        "outputId": "f01dffea-f798-4518-8e51-145c1fd906de"
      },
      "source": [
        "# Creating a global variable\n",
        "my_var = 3\n",
        "\n",
        "# Defining a function\n",
        "def greet(name): # Name is a \"parameter\" and it takes an \"argument\"\n",
        "  \"\"\"This function says hi to the person passed in as a parameter.\"\"\"\n",
        "  print(\"Hello, \" + name + \"!\")\n",
        "\n",
        "# Calling a function\n",
        "greet(\"Alice\")\n",
        "greet(\"Bob\")\n",
        "\n",
        "# Function with a return value\n",
        "def add_numbers(x, y): # x and y are parameters which take arguments\n",
        "  \"\"\"This function returns the sum of two numbers.\"\"\"\n",
        "  return x + y\n",
        "\n",
        "# Change the global variable\n",
        "def change_my_var(change):\n",
        "  global my_var # If you don't include this line, you will encounter an error\n",
        "  my_var+=change\n",
        "\n",
        "result = add_numbers(x, y)\n",
        "change_my_var(3)\n",
        "print(\"The sum is: \" + str(result)) # Here, we need to caste the variable into a string so that we can concatenate it to another string.\n",
        "print(\"The new variable is: \"+str(my_var))"
      ],
      "execution_count": null,
      "outputs": [
        {
          "output_type": "stream",
          "name": "stdout",
          "text": [
            "Hello, Alice!\n",
            "Hello, Bob!\n",
            "The sum is: 14\n",
            "The new variable is: 6\n"
          ]
        }
      ]
    },
    {
      "cell_type": "markdown",
      "metadata": {
        "id": "845b6772"
      },
      "source": [
        "### Lists and Tuples\n",
        "\n",
        "In python, in both lists and tuples, the values are not restricted to one single data type. Having a list like this: [3, 2, \"hello\", 5.3, True] is completely valid.\n",
        "\n",
        "Lists and tuples are used to store collections of items. They can hold items of different data types.\n",
        "\n",
        "**Lists** are mutable, which means you can change their elements after creating them. They are defined using square brackets `[]`."
      ]
    },
    {
      "cell_type": "code",
      "metadata": {
        "colab": {
          "base_uri": "https://localhost:8080/"
        },
        "id": "981b37b9",
        "outputId": "2ccdd9e8-6116-492b-c11d-f09302466281"
      },
      "source": [
        "# Creating a list\n",
        "fruits = [\"apple\", \"banana\", \"cherry\"]\n",
        "print(fruits)\n",
        "\n",
        "# Accessing elements (indexing starts at 0)\n",
        "print(fruits[0])\n",
        "\n",
        "# Modifying elements\n",
        "fruits[1] = \"blueberry\"\n",
        "print(fruits)\n",
        "\n",
        "# Adding elements\n",
        "fruits.append(\"date\")\n",
        "print(fruits)\n",
        "\n",
        "# Removing elements\n",
        "fruits.remove(\"apple\")\n",
        "print(fruits)"
      ],
      "execution_count": null,
      "outputs": [
        {
          "output_type": "stream",
          "name": "stdout",
          "text": [
            "['apple', 'banana', 'cherry']\n",
            "apple\n",
            "['apple', 'blueberry', 'cherry']\n",
            "['apple', 'blueberry', 'cherry', 'date']\n",
            "['blueberry', 'cherry', 'date']\n"
          ]
        }
      ]
    },
    {
      "cell_type": "markdown",
      "metadata": {
        "id": "38cff25c"
      },
      "source": [
        "**Tuples** are immutable, which means you cannot change their elements after creating them. They are defined using parentheses `()`. Tuples are useful for data that should not be changed, like coordinates."
      ]
    },
    {
      "cell_type": "code",
      "metadata": {
        "colab": {
          "base_uri": "https://localhost:8080/"
        },
        "id": "78b5380d",
        "outputId": "cb0d8bd3-f47a-46f8-ad7c-b0b2c70fd2c7"
      },
      "source": [
        "# Creating a tuple\n",
        "coordinates = (10.0, 20.0)\n",
        "print(coordinates)\n",
        "\n",
        "# Accessing elements\n",
        "print(coordinates[0])\n",
        "\n",
        "# Trying to modify a tuple = error\n",
        "# INVALID: coordinates[0] = 15.0"
      ],
      "execution_count": null,
      "outputs": [
        {
          "output_type": "stream",
          "name": "stdout",
          "text": [
            "(10.0, 20.0)\n",
            "10.0\n"
          ]
        }
      ]
    },
    {
      "cell_type": "markdown",
      "metadata": {
        "id": "c462aadb"
      },
      "source": [
        "### Imports\n",
        "\n",
        "In Python, you can use code written by others by importing modules or packages. This lets you borrow existing code instead of having to write it from scratch.\n",
        "\n",
        "Think of a library like a prewritten python file filled with classes, functions, and variables. When you import it, all the code is placed into your program."
      ]
    },
    {
      "cell_type": "code",
      "metadata": {
        "colab": {
          "base_uri": "https://localhost:8080/"
        },
        "id": "276983e7",
        "outputId": "6ab55a47-7eec-4fee-9167-3cd491605e68"
      },
      "source": [
        "# Importing a built-in module with the import keyword\n",
        "import math\n",
        "\n",
        "# Using a function from the imported module\n",
        "square_root = math.sqrt(81)\n",
        "print(\"The square root of 81 is:\", square_root)\n",
        "\n",
        "# Importing a specific function from a module\n",
        "#   This helps with simplicity and it keeps useless code out of your program.\n",
        "from random import randint\n",
        "\n",
        "# Using the imported function\n",
        "random_number = randint(1, 10)\n",
        "print(\"A random number between 1 and 10 is:\", random_number)\n",
        "\n",
        "# Importing a module with an alias (common for libraries like pandas and numpy)\n",
        "# import pandas as pd\n",
        "# import numpy as np"
      ],
      "execution_count": null,
      "outputs": [
        {
          "output_type": "stream",
          "name": "stdout",
          "text": [
            "The square root of 81 is: 9.0\n",
            "A random number between 1 and 10 is: 9\n"
          ]
        }
      ]
    },
    {
      "cell_type": "markdown",
      "source": [
        "#Exercises:\n",
        "Please complete these exercises to sharpen your skills and stick your knowledge into your brain. Even 5 minutes a day counts!\n",
        "\n",
        "*online interpreter: https://www.programiz.com/python-programming/online-compiler/*",
        "\n",
        "\n",
        "###1. Printing & Variables: Calculate the area of a triangle\n",
        "\n",
        "Ask the user for the lengths of height and base. Hint: area = (1/2)\\*base*height\n",
        "\n",
        "Print a message like: \"A triangle with a height of [height] and a base of [base] has an area of [area]\"\n",
        "\n",
        "###2. Type Casting: Squaring a number\n",
        "\n",
        "Ask the user for any whole number.\n",
        "\n",
        "Convert it to an integer and print its square.\n",
        "\n",
        "###3. Conditionals: Grade Checker\n",
        "\n",
        "Ask the user for what their % grade is.\n",
        "\n",
        "Use conditionals to find and print out their letter grade. A = 90-100, B = 80-90, C = 70-80, D = 60-70, and F is 0-60\n",
        "\n",
        "###4. Functions: Multiplication\n",
        "\n",
        "Write a function that takes two numbers and returns their product.\n",
        "\n",
        "Call it with any two numbers and print the result.\n",
        "\n",
        "###5. Lists & Tuples: Appending, Removing, and Printing\n",
        "\n",
        "Create a list of 5 animals.\n",
        "\n",
        "Add another animal, remove one, and print the final list.\n",
        "\n",
        "Convert (cast) it to a tuple using the tuple() function and print the tuple.\n",
        "\n",
        "###6. Imports\n",
        "\n",
        "Import randint from the random module.\n",
        "\n",
        "Generate and print a random number between 1 and 20."
      ],
      "metadata": {
        "id": "SEmXS2eXMw5O"
      }
    },
    {
      "cell_type": "markdown",
      "source": [
        "# SOLUTIONS BELOW! (No Peeking!)\n",
        "-\n",
        "-\n",
        "-\n",
        "-\n",
        "-\n",
        "-\n",
        "-\n",
        "-\n",
        "-\n",
        "-\n",
        "-"
      ],
      "metadata": {
        "id": "awic_p6MOOlc"
      }
    },
    {
      "cell_type": "code",
      "source": [
        "# 1. Printing and Variables: Calculate the area of a triangle\n",
        "\n",
        "# Take inputs and store their values in variables\n",
        "height = int(input(\"What is the height? \")) # Caste the values to an int to we can do arithmetic operations on them\n",
        "base = int(input(\"What is the base? \"))\n",
        "\n",
        "# Calculate the area of the triangle and store it in a variable\n",
        "area = (1/2)*base*height\n",
        "\n",
        "# Final output, make sure to caste all ints to strings when concatenating them with other strings\n",
        "print(\"A triangle with a height of \"+str(height)+\"in and a base of \"+str(base)+\"in has an area of \"+str(area)+\"in^2\")\n"
      ],
      "metadata": {
        "id": "bdSTfcgxOeaK",
        "colab": {
          "base_uri": "https://localhost:8080/"
        },
        "outputId": "48a713a5-c617-4038-919f-60f9dbc06c2d"
      },
      "execution_count": null,
      "outputs": [
        {
          "output_type": "stream",
          "name": "stdout",
          "text": [
            "What is the height? 3\n",
            "What is the base? 3\n",
            "A triangle with a height of 3in and a base of 3in has an area of 4.5in^2\n"
          ]
        }
      ]
    },
    {
      "cell_type": "code",
      "source": [
        "# 2. Type Casting: Squaring a number\n",
        "\n",
        "# Take the input\n",
        "number = int(input(\"Enter any whole number: \")) # Caste it to an int\n",
        "\n",
        "# Square the number\n",
        "number = number**2 # ** is the arithmetic operator for exponentiation\n",
        "\n",
        "# Print the output\n",
        "print(number)\n"
      ],
      "metadata": {
        "colab": {
          "base_uri": "https://localhost:8080/"
        },
        "id": "QErhvbKqSVR-",
        "outputId": "e11a6162-fa74-438c-c51d-95ca23f7086a"
      },
      "execution_count": null,
      "outputs": [
        {
          "output_type": "stream",
          "name": "stdout",
          "text": [
            "Enter any whole number: 3\n",
            "9\n"
          ]
        }
      ]
    },
    {
      "cell_type": "code",
      "source": [
        "# 3. Conditionals: Grade Checker\n",
        "\n",
        "# Ask the user for their percentage grade\n",
        "grade = int(input(\"What is your percentage grade? \"))\n",
        "\n",
        "# Use conditionals to determine the letter grade\n",
        "if 90 <= grade and grade <= 100:\n",
        "    letter_grade = \"A\"\n",
        "elif 80 <= grade and grade < 90:\n",
        "    letter_grade = \"B\"\n",
        "elif 70 <= grade and grade < 80:\n",
        "    letter_grade = \"C\"\n",
        "elif 60 <= grade and grade < 70:\n",
        "    letter_grade = \"D\"\n",
        "elif grade < 60:\n",
        "    letter_grade = \"F\"\n",
        "else: # If grade > 100\n",
        "    letter_grade = \"Invalid grade\"\n",
        "\n",
        "# Print the letter grade\n",
        "print(\"Your letter grade is: \"+str(letter_grade))"
      ],
      "metadata": {
        "colab": {
          "base_uri": "https://localhost:8080/"
        },
        "id": "zTXRWugRTKca",
        "outputId": "2df821f8-29c9-428f-81dd-e142e625ad7c"
      },
      "execution_count": null,
      "outputs": [
        {
          "output_type": "stream",
          "name": "stdout",
          "text": [
            "What is your percentage grade? 90\n",
            "Your letter grade is: A\n"
          ]
        }
      ]
    },
    {
      "cell_type": "code",
      "metadata": {
        "colab": {
          "base_uri": "https://localhost:8080/"
        },
        "id": "e71338dd",
        "outputId": "b51bc4f1-88fe-4a95-914b-5ffed4b9499b"
      },
      "source": [
        "# 4. Functions: Multiplication\n",
        "\n",
        "# Write a function that takes two numbers and returns their product.\n",
        "def multiply_numbers(x, y):\n",
        "  return x * y\n",
        "\n",
        "# Call it with any two numbers and print the result.\n",
        "num1 = 7\n",
        "num2 = 8\n",
        "result = multiply_numbers(num1, num2)\n",
        "print(\"The product of \"+str(num1)+\" and \"+str(num2)+\" is: \"+str(result))"
      ],
      "execution_count": null,
      "outputs": [
        {
          "output_type": "stream",
          "name": "stdout",
          "text": [
            "The product of 7 and 8 is: 56\n"
          ]
        }
      ]
    },
    {
      "cell_type": "code",
      "metadata": {
        "colab": {
          "base_uri": "https://localhost:8080/"
        },
        "id": "d5971d06",
        "outputId": "7c62cf01-afdc-478f-ed48-ee5425fd7925"
      },
      "source": [
        "# 5. Lists & Tuples: Appending, Removing, and Printing\n",
        "\n",
        "# Create a list of 5 animals.\n",
        "animals = [\"lion\", \"tiger\", \"elephant\", \"giraffe\", \"zebra\"]\n",
        "print(\"Original list: \"+ str(animals))\n",
        "\n",
        "# Add another animal, remove one, and print the final list.\n",
        "animals.append(\"monkey\")\n",
        "print(\"After appending: \"+ str(animals))\n",
        "animals.remove(\"tiger\")\n",
        "print(\"After removing: \"+ str(animals))\n",
        "\n",
        "# Convert (cast) it to a tuple using the tuple() function and print the tuple.\n",
        "animals_tuple = tuple(animals)\n",
        "print(\"Converted to tuple: \"+ str(animals_tuple))"
      ],
      "execution_count": null,
      "outputs": [
        {
          "output_type": "stream",
          "name": "stdout",
          "text": [
            "Original list: ['lion', 'tiger', 'elephant', 'giraffe', 'zebra']\n",
            "After appending: ['lion', 'tiger', 'elephant', 'giraffe', 'zebra', 'monkey']\n",
            "After removing: ['lion', 'elephant', 'giraffe', 'zebra', 'monkey']\n",
            "Converted to tuple: ('lion', 'elephant', 'giraffe', 'zebra', 'monkey')\n"
          ]
        }
      ]
    },
    {
      "cell_type": "code",
      "metadata": {
        "colab": {
          "base_uri": "https://localhost:8080/"
        },
        "id": "1564c853",
        "outputId": "cacc531c-cd4d-469e-dec3-9831676b95e8"
      },
      "source": [
        "# 6. Imports\n",
        "\n",
        "# Import randint from the random module.\n",
        "from random import randint\n",
        "\n",
        "# Generate and print a random number between 1 and 20.\n",
        "random_number = randint(1, 20)\n",
        "print(\"A random number between 1 and 20 is:\", random_number)"
      ],
      "execution_count": null,
      "outputs": [
        {
          "output_type": "stream",
          "name": "stdout",
          "text": [
            "A random number between 1 and 20 is: 5\n"
          ]
        }
      ]
    }
  ]
}
