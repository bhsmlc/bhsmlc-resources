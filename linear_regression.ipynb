{
  "nbformat": 4,
  "nbformat_minor": 0,
  "metadata": {
    "colab": {
      "provenance": []
    },
    "kernelspec": {
      "name": "python3",
      "display_name": "Python 3"
    },
    "language_info": {
      "name": "python"
    }
  },
  "cells": [
    {
      "cell_type": "code",
      "execution_count": null,
      "metadata": {
        "id": "mdWNwrHVODZz"
      },
      "outputs": [],
      "source": [
        "# Import the random library to generate a random set of datapoints\n",
        "import random\n",
        "\n",
        "# Create the x and y datasets with 10 random numbers (0-9) in each list\n",
        "x = [random.randint(0, 9), random.randint(0, 9), random.randint(0, 9), random.randint(0, 9), random.randint(0, 9),\n",
        "     random.randint(0, 9), random.randint(0, 9), random.randint(0, 9), random.randint(0, 9), random.randint(0, 9)]\n",
        "y = [random.randint(0, 9), random.randint(0, 9), random.randint(0, 9), random.randint(0, 9), random.randint(0, 9),\n",
        "     random.randint(0, 9), random.randint(0, 9), random.randint(0, 9), random.randint(0, 9), random.randint(0, 9)]\n",
        "\n",
        "# Print x and y datasets to make sure they were generated correctly\n",
        "print(f\"x: {x}\")\n",
        "print(f\"y: {y}\")\n",
        "\n",
        "# Sum x = all the x values added up. Len x = the number of x values\n",
        "mX = sum(x)/len(x)  # Average of all the x values\n",
        "mY = sum(y)/len(y)  # Average of all the y values\n",
        "\n",
        "# m = rise/run\n",
        "# A function that returns a value is called a “fruitful function”\n",
        "\n",
        "# Functions for slope calculation:\n",
        "def rise():\n",
        "    # Defines a function\n",
        "    out = 0  # Output of the function\n",
        "    # Numerator of linear regression m formula:\n",
        "    for point in range(len(x)):\n",
        "        out += (x[point]-mX)*(y[point]-mY)\n",
        "    # Returns the final numerator\n",
        "    return out\n",
        "\n",
        "def run():\n",
        "    # Defines a function\n",
        "    out = 0  # Output of the function\n",
        "    # Denominator of linear regression m formula:\n",
        "    for value in x:\n",
        "        out += (value-mX)**2  # **2 means power of 2\n",
        "    # Returns the final numerator\n",
        "    return out\n",
        "\n",
        "# Store m in a variable\n",
        "m = rise()/run()\n",
        "\n",
        "# Find b and store it in a variable\n",
        "b = mY - m*mX\n",
        "\n",
        "# Ask user for an input x-value\n",
        "toPredict = int(input(\"Enter a x value: \"))\n",
        "\n",
        "# Predicts the corresponding y value (the output)\n",
        "prediction = print(m*toPredict + b)\n"
      ]
    }
  ]
}